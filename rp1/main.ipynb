{
 "cells": [
  {
   "cell_type": "markdown",
   "id": "5da171d5-5579-446c-9841-b4fdb0485368",
   "metadata": {},
   "source": [
    "## Setup inicial"
   ]
  },
  {
   "cell_type": "code",
   "execution_count": 74,
   "id": "d75644d4-453e-4711-adac-a64e1cd5bf35",
   "metadata": {},
   "outputs": [],
   "source": [
    "import pandas as pd\n",
    "import matplotlib.pyplot as plt"
   ]
  },
  {
   "cell_type": "code",
   "execution_count": 75,
   "id": "dadc91f9-f0f0-4c38-980c-d34be05d74e1",
   "metadata": {},
   "outputs": [],
   "source": [
    "anos = ['2020', '2021', '2022', '2023']\n",
    "dfs = []\n",
    "\n",
    "for ano in anos:\n",
    "    df = pd.read_csv(f'./dados_anuario/{ano}.csv')  \n",
    "    df['Ano'] = ano\n",
    "    dfs.append(df)\n",
    "\n",
    "combined_df = pd.concat(dfs)"
   ]
  },
  {
   "cell_type": "code",
   "execution_count": 76,
   "id": "939e10e7-7ba2-4793-9baf-d670a58ff03a",
   "metadata": {},
   "outputs": [],
   "source": [
    "df_a = combined_df[combined_df['Tipo de Unidade'] == 'A - Ensino e Pesquisa']\n",
    "df_a_graduacao = df[\n",
    "    (df['Tipo de Unidade'] == 'A - Ensino e Pesquisa') &\n",
    "    (df['Categoria'] == 'Graduação')\n",
    "]\n",
    "\n",
    "correcao_racas = {\n",
    "    'Pard': 'Pardos',\n",
    "    'Pret': 'Pretos',\n",
    "    'Bran': 'Brancos',\n",
    "    'Amar': 'Amarelos',\n",
    "    'Indig': 'Indígenas',\n",
    "    'N/I': 'Não Informado'\n",
    "}\n",
    "race_colors = {\n",
    "    'Brancos': '#4e79a7',\n",
    "    'Pardos': '#f28e2b',\n",
    "    'Pretos': '#e15759',\n",
    "    'Amarelos': '#76b7b2',\n",
    "    'Indígenas': '#59a14f',\n",
    "    'Não Informado': '#bab0ac'\n",
    "}"
   ]
  },
  {
   "cell_type": "markdown",
   "id": "3be372f6-2a97-4a3e-a685-d3b12fb59b18",
   "metadata": {},
   "source": [
    "## Evolução étnica (2020-presente)"
   ]
  },
  {
   "cell_type": "code",
   "execution_count": 77,
   "id": "2d00b8d1-eeab-425e-a255-32f7a8951019",
   "metadata": {},
   "outputs": [],
   "source": [
    "def plot_stacked_with_labels(data, title, filename):\n",
    "    plt.figure(figsize=(12, 8))\n",
    "    bottom = None\n",
    "    races_ordered = ['Brancos', 'Pardos', 'Pretos', 'Amarelos', 'Indígenas', 'Não Informado']\n",
    "    \n",
    "    for race in races_ordered:\n",
    "        if race in data.columns:\n",
    "            bars = plt.bar(\n",
    "                data.index,\n",
    "                data[race],\n",
    "                bottom=bottom,\n",
    "                label=race,\n",
    "                color=race_colors[race],\n",
    "                edgecolor='white'\n",
    "            )\n",
    "            \n",
    "            for year_idx, year in enumerate(data.index):\n",
    "                height = data.loc[year, race]\n",
    "                if height > 3:\n",
    "                    plt.text(\n",
    "                        year_idx,\n",
    "                        (bottom.iloc[year_idx] if bottom is not None else 0) + height/2,\n",
    "                        f'{height:.2f}%',\n",
    "                        ha='center',\n",
    "                        va='center',\n",
    "                        color='white' if race in ['Pretos', 'Pardos'] else 'black',\n",
    "                        fontsize=9,\n",
    "                        fontweight='bold'\n",
    "                    )\n",
    "            \n",
    "            bottom = data[race] if bottom is None else bottom + data[race]\n",
    "    \n",
    "    plt.title(title, fontsize=16, pad=20)\n",
    "    plt.xlabel('Ano')\n",
    "    plt.ylabel('Proporção (%)')\n",
    "    plt.ylim(0, 100)\n",
    "    plt.legend(bbox_to_anchor=(1.05, 1), loc='upper left')\n",
    "    plt.grid(axis='y', alpha=0.3)\n",
    "    plt.tight_layout()\n",
    "    plt.savefig(f\"./graficos/{filename}\", bbox_inches='tight', dpi=300)\n",
    "    plt.close()"
   ]
  },
  {
   "cell_type": "code",
   "execution_count": 78,
   "id": "a53395db-e68a-431c-9898-3f990231acaf",
   "metadata": {},
   "outputs": [],
   "source": [
    "for exclude_ni in [False, True]:\n",
    "    df_filtered = df_a if not exclude_ni else df_a[df_a['racacor'] != 'N/I']\n",
    "    race_year = df_filtered.groupby(['Ano', 'racacor'])['Total'].sum().unstack()\n",
    "    race_year = race_year.rename(columns=correcao_racas)\n",
    "    race_year_pct = race_year.div(race_year.sum(axis=1), axis=0) * 100\n",
    "    \n",
    "    plot_stacked_with_labels(\n",
    "        race_year_pct,\n",
    "        f'Evolução da Composição Racial{\" (excluindo não informados)\" if exclude_ni else \"\"}',\n",
    "        f'Evolucao_Racial_Geral_{\"sem_ni\" if exclude_ni else \"com_ni\"}.png'\n",
    "    )"
   ]
  },
  {
   "cell_type": "code",
   "execution_count": 79,
   "id": "19381638-6cf9-45c7-861f-9af203ad903c",
   "metadata": {},
   "outputs": [],
   "source": [
    "education_levels = ['Graduação', 'Pós-Graduação', 'Pós-Doutorando']\n",
    "\n",
    "for level in education_levels:\n",
    "    for exclude_ni in [False, True]:\n",
    "        level_df = df_a[df_a['Categoria'] == level]\n",
    "        level_df = level_df if not exclude_ni else level_df[level_df['racacor'] != 'N/I']\n",
    "        \n",
    "        race_year_level = level_df.groupby(['Ano', 'racacor'])['Total'].sum().unstack()\n",
    "        race_year_level = race_year_level.rename(columns=correcao_racas)\n",
    "        race_year_level_pct = race_year_level.div(race_year_level.sum(axis=1), axis=0) * 100\n",
    "        \n",
    "        plot_stacked_with_labels(\n",
    "            race_year_level_pct,\n",
    "            f'Composição Racial dos alunos de {level} da USP{\" (excluindo não informados)\" if exclude_ni else \"\"}',\n",
    "            f'Evolucao_Racial_{level}_{\"sem_ni\" if exclude_ni else \"com_ni\"}.png'\n",
    "        )"
   ]
  },
  {
   "cell_type": "markdown",
   "id": "b765fe67-4f7c-41a7-a448-5f3db9676a22",
   "metadata": {},
   "source": [
    "## Composição por Unidade"
   ]
  },
  {
   "cell_type": "code",
   "execution_count": null,
   "id": "3a7e2e55-00b1-46fe-8468-6875f64920ff",
   "metadata": {},
   "outputs": [],
   "source": [
    "for unit in df_a_graduacao['Unidade'].unique():\n",
    "    unit_data = df_a_graduacao[df_a_graduacao['Unidade'] == unit]\n",
    "    \n",
    "    if unit_data['Total'].sum() == 0:\n",
    "        continue\n",
    "    \n",
    "    for include_ni in [True, False]:\n",
    "        plt.figure(figsize=(10, 8))\n",
    "        \n",
    "        if not include_ni:\n",
    "            unit_data_filtered = unit_data[unit_data['racacor'] != 'N/I']\n",
    "        else:\n",
    "            unit_data_filtered = unit_data\n",
    "        \n",
    "        race_dist = unit_data_filtered.groupby('racacor')['Total'].sum()\n",
    "        race_dist = race_dist.rename(index=correcao_racas)\n",
    "        \n",
    "        race_dist.plot.pie(\n",
    "            colors=[race_colors[r] for r in race_dist.index],\n",
    "            autopct='%1.1f%%',\n",
    "            startangle=90,\n",
    "            wedgeprops={'linewidth': 1, 'edgecolor': 'white'},\n",
    "            textprops={'fontsize': 10}\n",
    "        )\n",
    "        \n",
    "        title = f'Distribuição Racial - {unit}\\nGraduação'\n",
    "        if not include_ni:\n",
    "            title += ' (sem Não Informado)'\n",
    "        \n",
    "        plt.title(title, fontsize=14, pad=20)\n",
    "        plt.ylabel('')\n",
    "        plt.legend(bbox_to_anchor=(1.3, 0.8), loc='center right')\n",
    "        \n",
    "        plt.tight_layout()\n",
    "        plt.savefig(\n",
    "            f'./graficos/Graduação_{unit}_{\"com_ni\" if include_ni else \"sem_ni\"}.png',\n",
    "            bbox_inches='tight',\n",
    "            dpi=300\n",
    "        )\n",
    "        plt.close()"
   ]
  },
  {
   "cell_type": "code",
   "execution_count": null,
   "id": "e5cb51e3-3ab4-49ba-bb18-5139abca654f",
   "metadata": {},
   "outputs": [],
   "source": []
  }
 ],
 "metadata": {
  "kernelspec": {
   "display_name": "Python 3 (ipykernel)",
   "language": "python",
   "name": "python3"
  },
  "language_info": {
   "codemirror_mode": {
    "name": "ipython",
    "version": 3
   },
   "file_extension": ".py",
   "mimetype": "text/x-python",
   "name": "python",
   "nbconvert_exporter": "python",
   "pygments_lexer": "ipython3",
   "version": "3.13.2"
  }
 },
 "nbformat": 4,
 "nbformat_minor": 5
}
